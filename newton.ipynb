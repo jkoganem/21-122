{
 "cells": [
  {
   "cell_type": "markdown",
   "metadata": {},
   "source": [
    "# Newton's method for root finding \n",
    "\n",
    "Given a a differentiable function $f: \\mathbb{R} \\to \\mathbb{R}$, Newton's method is an iterative method for approximating a root $x_*$ of $f$ via the sequence $\\{x_k\\}_{k = 0}^\\infty \\subset \\mathbb{R}$, where $x_0$ is an initial point chosen as an initial guess for $x_*$ and $$x_{k+1} = x_k - \\frac{f(x_k)}{f'(x_k)} \\; \\text{for} \\; k \\ge 0.$$\n",
    "\n",
    "Note that this sequence is only well-defined if $f'(x_k) \\neq 0$ for all $k \\ge 0$.\n"
   ]
  },
  {
   "cell_type": "code",
   "execution_count": 72,
   "metadata": {},
   "outputs": [],
   "source": [
    "## Importing packages\n",
    "import numpy as np\n",
    "import sympy as sp \n",
    "from sympy import *"
   ]
  },
  {
   "cell_type": "code",
   "execution_count": 71,
   "metadata": {},
   "outputs": [],
   "source": [
    "## Defining f\n",
    "\n",
    "def f(x):\n",
    "    return x**2 - x - 1\n",
    "\n",
    "def newton(f, x0, epochs=20, accuracy=1.0e-06):\n",
    "        \n",
    "    x = x0\n",
    "   \n",
    "    #symbolic differentiation\n",
    "    y = symbols('x')\n",
    "    expr = f(y)\n",
    "    df = Lambda(y, diff(expr, y))    \n",
    "    \n",
    "    print(f\"Function: {expr}, Derivative: {df(y)}\")\n",
    "    \n",
    "    for i in range(epochs):\n",
    "        fx = f(x)\n",
    "        dfx = df(x)\n",
    "        \n",
    "        if(np.abs(dfx) < 1.0e-16):\n",
    "            print(\"Newton(): f'(x) = 0\")\n",
    "            return(\"FAIL\")\n",
    "\n",
    "        dx = fx / dfx\n",
    "\n",
    "        x = x - dx\n",
    "        \n",
    "        if( np.abs(fx) < accuracy or np.abs(dx) < accuracy):\n",
    "            print(f\"Number of itterations = {i}\")\n",
    "            return(x)\n",
    "\n",
    "    print(\"Newton(): Didn't converge\")\n",
    "    return(\"FAIL\")"
   ]
  },
  {
   "cell_type": "code",
   "execution_count": 70,
   "metadata": {},
   "outputs": [
    {
     "name": "stdout",
     "output_type": "stream",
     "text": [
      "Function: x**2 - x - 1, Derivative: 2*x - 1\n",
      "Number of itterations = 4\n"
     ]
    },
    {
     "data": {
      "text/latex": [
       "$\\displaystyle 1.61803398874999$"
      ],
      "text/plain": [
       "1.61803398874999"
      ]
     },
     "execution_count": 70,
     "metadata": {},
     "output_type": "execute_result"
    }
   ],
   "source": [
    "newton(f,1.0,20,1.0e-06)"
   ]
  },
  {
   "cell_type": "code",
   "execution_count": 10,
   "metadata": {},
   "outputs": [
    {
     "name": "stdout",
     "output_type": "stream",
     "text": [
      "Newton(): Number of itterations = 4\n"
     ]
    }
   ],
   "source": [
    "xx = newton(ff, df, 1.0)"
   ]
  },
  {
   "cell_type": "code",
   "execution_count": 11,
   "metadata": {},
   "outputs": [],
   "source": [
    "gr = (1.0 + np.sqrt(5)) / 2.0\n"
   ]
  },
  {
   "cell_type": "code",
   "execution_count": 12,
   "metadata": {},
   "outputs": [
    {
     "name": "stdout",
     "output_type": "stream",
     "text": [
      "Golden Ratio = 1.618034, Newton(ff, df, 1.0) = 1.618034, Error = 9.414691e-14\n"
     ]
    }
   ],
   "source": [
    "print(\"Golden Ratio = {:f}, Newton(ff, df, 1.0) = {:f}, Error = {:e}\".format(gr,xx,np.abs(gr-xx)))"
   ]
  },
  {
   "cell_type": "code",
   "execution_count": null,
   "metadata": {},
   "outputs": [],
   "source": []
  }
 ],
 "metadata": {
  "kernelspec": {
   "display_name": "base",
   "language": "python",
   "name": "python3"
  },
  "language_info": {
   "codemirror_mode": {
    "name": "ipython",
    "version": 3
   },
   "file_extension": ".py",
   "mimetype": "text/x-python",
   "name": "python",
   "nbconvert_exporter": "python",
   "pygments_lexer": "ipython3",
   "version": "3.12.2"
  }
 },
 "nbformat": 4,
 "nbformat_minor": 2
}
