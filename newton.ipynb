{
 "cells": [
  {
   "cell_type": "markdown",
   "metadata": {},
   "source": [
    "# Newton's method for root finding \n",
    "\n",
    "Given a a differentiable function $f: \\mathbb{R} \\to \\mathbb{R}$, Newton's method is an iterative method for approximating a root $x_*$ of $f$ via the sequence $\\{x_k\\}_{k = 0}^\\infty \\subset \\mathbb{R}$, where $x_0$ is an initial point chosen as an initial guess for $x_*$ and $$x_{k+1} = x_k - \\frac{f(x_k)}{f'(x_k)} \\; \\text{for} \\; k \\ge 0.$$\n",
    "\n",
    "Note that this sequence is only well-defined if $f'(x_k) \\neq 0$ for all $k \\ge 0$.\n"
   ]
  },
  {
   "cell_type": "markdown",
   "metadata": {},
   "source": [
    "The [SciPy package](https://docs.scipy.org/doc/scipy/index.html) has their own implementation of this method; see https://docs.scipy.org/doc/scipy/reference/generated/scipy.optimize.newton.html."
   ]
  },
  {
   "cell_type": "code",
   "execution_count": 89,
   "metadata": {},
   "outputs": [],
   "source": [
    "## Importing packages\n",
    "import numpy as np\n",
    "import sympy as sp \n",
    "from sympy import *"
   ]
  },
  {
   "cell_type": "code",
   "execution_count": 109,
   "metadata": {},
   "outputs": [],
   "source": [
    "## Defining f\n",
    "\n",
    "def newton(f, x0, max_iterations=20, accuracy=1.0e-06):\n",
    "        \n",
    "    x = x0\n",
    "    print(f\"Initial guess: x_0 = {x}\")\n",
    "   \n",
    "    #symbolic differentiation\n",
    "    y = symbols('x')\n",
    "    expr = f(y)\n",
    "    df = Lambda(y, diff(expr, y))    \n",
    "    \n",
    "    print(f\"Function: {expr}, Derivative: {df(y)}\")\n",
    "    \n",
    "    for i in range(max_iterations):\n",
    "        fx = f(x)\n",
    "        dfx = df(x)\n",
    "        \n",
    "        #funnction terminates if f'(x_i) = 0\n",
    "        if(np.abs(dfx) < 1.0e-16):\n",
    "            return(f\"Derivative is zero: f'(x_{i}) = 0. Method failed to converge.\")\n",
    "\n",
    "        dx = fx / dfx\n",
    "\n",
    "        x = float(x - dx)\n",
    "        print(f\"Iteration {i+1}: x_{i+1} = {x}\")\n",
    "        #function terminates if either |f(x_i) - 0| is less than the specified accuracy or if |x_{i} - x_{i-1}| is less than the specified accuracy\n",
    "        if(np.abs(fx) < accuracy or np.abs(dx) < accuracy):\n",
    "            print(f\"Number of iterations = {i+1}\")\n",
    "            return(f\"Final approximation: x_{i+1} = {x}\")\n",
    "\n",
    "    return(f\"Exceeded maximum iterations (max_iter = {max_iterations}), method failed to converge\")"
   ]
  },
  {
   "cell_type": "code",
   "execution_count": 100,
   "metadata": {},
   "outputs": [
    {
     "name": "stdout",
     "output_type": "stream",
     "text": [
      "Initial guess: x_0 = 1.0\n",
      "Function: x**2 - x - 1, Derivative: 2*x - 1\n",
      "Iteration 1: x_1 = 2.00000000000000\n",
      "Iteration 2: x_2 = 1.66666666666667\n",
      "Iteration 3: x_3 = 1.61904761904762\n",
      "Iteration 4: x_4 = 1.61803444782168\n",
      "Iteration 5: x_5 = 1.61803398874999\n",
      "Number of iterations = 5\n"
     ]
    },
    {
     "data": {
      "text/plain": [
       "'Final approximation: x_5 = 1.61803398874999'"
      ]
     },
     "execution_count": 100,
     "metadata": {},
     "output_type": "execute_result"
    }
   ],
   "source": [
    "def f(x):\n",
    "    return x**2 - x - 1\n",
    "\n",
    "newton(f,1.0)"
   ]
  },
  {
   "cell_type": "code",
   "execution_count": 101,
   "metadata": {},
   "outputs": [
    {
     "name": "stdout",
     "output_type": "stream",
     "text": [
      "Initial guess: x_0 = 1.0\n",
      "Function: x**2 - x - 1, Derivative: 2*x - 1\n",
      "Iteration 1: x_1 = 2.00000000000000\n",
      "Iteration 2: x_2 = 1.66666666666667\n"
     ]
    },
    {
     "data": {
      "text/plain": [
       "'Exceeded maximum iterations (max_iter = 2), method failed to converge'"
      ]
     },
     "execution_count": 101,
     "metadata": {},
     "output_type": "execute_result"
    }
   ],
   "source": [
    "newton(f,1.0, max_iterations = 2)"
   ]
  },
  {
   "cell_type": "code",
   "execution_count": 102,
   "metadata": {},
   "outputs": [
    {
     "name": "stdout",
     "output_type": "stream",
     "text": [
      "Initial guess: x_0 = 1.0\n",
      "Function: x**2 - x - 1, Derivative: 2*x - 1\n",
      "Iteration 1: x_1 = 2.00000000000000\n",
      "Iteration 2: x_2 = 1.66666666666667\n",
      "Iteration 3: x_3 = 1.61904761904762\n",
      "Iteration 4: x_4 = 1.61803444782168\n",
      "Iteration 5: x_5 = 1.61803398874999\n",
      "Iteration 6: x_6 = 1.61803398874989\n",
      "Iteration 7: x_7 = 1.61803398874989\n",
      "Number of iterations = 7\n"
     ]
    },
    {
     "data": {
      "text/plain": [
       "'Final approximation: x_7 = 1.61803398874989'"
      ]
     },
     "execution_count": 102,
     "metadata": {},
     "output_type": "execute_result"
    }
   ],
   "source": [
    "newton(f,1.0, accuracy = 1.0e-16)"
   ]
  },
  {
   "cell_type": "code",
   "execution_count": 103,
   "metadata": {},
   "outputs": [
    {
     "name": "stdout",
     "output_type": "stream",
     "text": [
      "Initial guess: x_0 = 0\n",
      "Function: x**2 - 1, Derivative: 2*x\n"
     ]
    },
    {
     "data": {
      "text/plain": [
       "\"Derivative is zero: f'(x_0) = 0. Method failed to converge.\""
      ]
     },
     "execution_count": 103,
     "metadata": {},
     "output_type": "execute_result"
    }
   ],
   "source": [
    "p = lambda x: x**2 - 1 \n",
    "\n",
    "newton(p,0)"
   ]
  },
  {
   "cell_type": "code",
   "execution_count": 111,
   "metadata": {},
   "outputs": [
    {
     "name": "stdout",
     "output_type": "stream",
     "text": [
      "Initial guess: x_0 = 1\n",
      "Function: -x + cos(x), Derivative: -sin(x) - 1\n",
      "Iteration 1: x_1 = 0.7503638678402439\n",
      "Iteration 2: x_2 = 0.7391128909113617\n",
      "Iteration 3: x_3 = 0.739085133385284\n",
      "Iteration 4: x_4 = 0.7390851332151607\n",
      "Number of iterations = 4\n"
     ]
    },
    {
     "data": {
      "text/plain": [
       "'Final approximation: x_4 = 0.7390851332151607'"
      ]
     },
     "execution_count": 111,
     "metadata": {},
     "output_type": "execute_result"
    }
   ],
   "source": [
    "p = lambda x: sp.cos(x) - x\n",
    "\n",
    "newton(p,1)"
   ]
  },
  {
   "cell_type": "code",
   "execution_count": null,
   "metadata": {},
   "outputs": [],
   "source": []
  }
 ],
 "metadata": {
  "kernelspec": {
   "display_name": "base",
   "language": "python",
   "name": "python3"
  },
  "language_info": {
   "codemirror_mode": {
    "name": "ipython",
    "version": 3
   },
   "file_extension": ".py",
   "mimetype": "text/x-python",
   "name": "python",
   "nbconvert_exporter": "python",
   "pygments_lexer": "ipython3",
   "version": "3.12.2"
  }
 },
 "nbformat": 4,
 "nbformat_minor": 2
}
